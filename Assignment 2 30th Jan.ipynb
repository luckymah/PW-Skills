{
 "cells": [
  {
   "cell_type": "markdown",
   "id": "a1b4f713-273a-4343-8687-7f92c7b471ce",
   "metadata": {},
   "source": [
    "Q.1 Write a program to accept %age from the user and display the grade according to the following criteria"
   ]
  },
  {
   "cell_type": "code",
   "execution_count": 7,
   "id": "389a59a6-3f50-41d8-adb8-2fc18359e185",
   "metadata": {},
   "outputs": [
    {
     "name": "stdin",
     "output_type": "stream",
     "text": [
      "Enter percentage marks 101\n"
     ]
    },
    {
     "name": "stdout",
     "output_type": "stream",
     "text": [
      "Garde A\n"
     ]
    }
   ],
   "source": [
    "#Ans.1\n",
    "\n",
    "\n",
    "n = int(input(\"Enter percentage marks\"))\n",
    "\n",
    "if n > 90:\n",
    "    print(\"Garde A\")\n",
    "\n",
    "elif n<=90 and n>80:\n",
    "    print(\"Grade B\")\n",
    "    \n",
    "elif n<=80 and n>=60:\n",
    "    print(\"Grade C\")\n",
    "    \n",
    "else:\n",
    "    print(\"Grade D\")"
   ]
  },
  {
   "cell_type": "markdown",
   "id": "1405130c-9414-47d4-97d0-1275d4bb1b14",
   "metadata": {},
   "source": [
    "Q.2 Write a program to accept the cost price of a bike and display the road tax to be paid according to the following criteria"
   ]
  },
  {
   "cell_type": "code",
   "execution_count": 11,
   "id": "d70ee6a0-ba28-47d8-bc34-67408ac5109e",
   "metadata": {},
   "outputs": [
    {
     "name": "stdin",
     "output_type": "stream",
     "text": [
      "Enter cost price to display the road tax 100000\n"
     ]
    },
    {
     "name": "stdout",
     "output_type": "stream",
     "text": [
      "10%\n"
     ]
    }
   ],
   "source": [
    "CP = int(input(\"Enter cost price to display the road tax\"))\n",
    "\n",
    "if CP > 100000:\n",
    "    print(\"15%\")\n",
    "    \n",
    "if CP > 50000 and CP <= 100000:\n",
    "    print(\"10%\")\n",
    "    \n",
    "if CP <= 50000:\n",
    "    print(\"5%\")"
   ]
  },
  {
   "cell_type": "markdown",
   "id": "a2cc283c-b765-4a18-b289-a604f4b32032",
   "metadata": {},
   "source": [
    "Q.3 Accept any city from the user and display monuments of that city"
   ]
  },
  {
   "cell_type": "code",
   "execution_count": 4,
   "id": "58b997bc-8c94-4ada-8ab6-036c080a0d8d",
   "metadata": {},
   "outputs": [
    {
     "name": "stdin",
     "output_type": "stream",
     "text": [
      "Enter city name from Delhi, Agra or Jaipur Delhi\n"
     ]
    },
    {
     "name": "stdout",
     "output_type": "stream",
     "text": [
      "Red Fort\n"
     ]
    }
   ],
   "source": [
    "#Ans.3\n",
    "\n",
    "City_Monument = {'Delhi':'Red Fort', 'Agra':'Taj Mahal','Jaipur':'Jal Mahal'}\n",
    "\n",
    "City = input(\"Enter city name from Delhi, Agra or Jaipur\")\n",
    "\n",
    "print(City_Monument[City])"
   ]
  },
  {
   "cell_type": "markdown",
   "id": "45073445-a657-444b-a2ff-018a8e667f7d",
   "metadata": {},
   "source": [
    "Q.4 Check how many times a given number can be divided by 3 before it is less than or equal to 10."
   ]
  },
  {
   "cell_type": "code",
   "execution_count": 4,
   "id": "3796a6f9-f68f-4ebf-8a87-272c78404fdd",
   "metadata": {},
   "outputs": [
    {
     "name": "stdin",
     "output_type": "stream",
     "text": [
      "enter the number 12\n"
     ]
    },
    {
     "name": "stdout",
     "output_type": "stream",
     "text": [
      "1\n"
     ]
    }
   ],
   "source": [
    "#Ans.4\n",
    "\n",
    "n=int(input(\"enter the number\"))\n",
    "count=0\n",
    "while n>10:\n",
    "    n=n/3\n",
    "    count+=1\n",
    "print(count)"
   ]
  },
  {
   "cell_type": "markdown",
   "id": "e3b390e7-36e0-4c5d-a33c-bb23531c8ab9",
   "metadata": {},
   "source": [
    "Q.5 Why and When to Use while Loop in Python give a detailed description with example\n",
    "\n",
    "Ans.5 \n",
    "\n",
    "while loop is used to run a block code until a certain condition is met.\n",
    "\n",
    "The syntax of while loop is:\n",
    "\n",
    "while condition:\n",
    "    # body of while loop\n",
    "\n",
    "\n",
    "Here,\n",
    "\n",
    "- A while loop evaluates the condition\n",
    "- If the condition evaluates to True, the code inside the while loop is executed.\n",
    "- condition is evaluated again.\n",
    "- This process continues until the condition is False.\n",
    "- When condition evaluates to False, the loop stops."
   ]
  },
  {
   "cell_type": "code",
   "execution_count": 5,
   "id": "800c38e5-c0df-4223-9c04-3e20df310f8f",
   "metadata": {},
   "outputs": [
    {
     "name": "stdout",
     "output_type": "stream",
     "text": [
      "1\n",
      "2\n",
      "3\n",
      "4\n",
      "5\n"
     ]
    }
   ],
   "source": [
    "#Example: while Loop\n",
    "# program to display numbers from 1 to 5\n",
    "\n",
    "# initialize the variable\n",
    "i = 1\n",
    "n = 5\n",
    "\n",
    "# while loop from i = 1 to 5\n",
    "while i <= n:\n",
    "    print(i)\n",
    "    i = i + 1"
   ]
  },
  {
   "cell_type": "markdown",
   "id": "ccd20bd0-4ce5-4a57-92f3-7ce0e8d0e936",
   "metadata": {},
   "source": [
    "Q.6 Use Nested while loop to print 3 different patterns"
   ]
  },
  {
   "cell_type": "code",
   "execution_count": 27,
   "id": "7907443f-8a56-499d-aabb-1aa1f4604cc1",
   "metadata": {},
   "outputs": [
    {
     "name": "stdout",
     "output_type": "stream",
     "text": [
      "1st\n",
      "* \n",
      "* * \n",
      "* * * \n",
      "* * * * \n",
      "\n",
      "2nd\n",
      "54321 \n",
      "5432 \n",
      "543 \n",
      "54 \n",
      "5 \n",
      "\n",
      "3rd\n",
      "5 4 3 2 1  \n",
      "5 4 3 2  \n",
      "5 4 3  \n",
      "5 4  \n",
      "5  \n",
      "1 \n",
      "1 2 \n",
      "1 2 3 \n",
      "1 2 3 4 \n",
      "1 2 3 4 5 \n"
     ]
    }
   ],
   "source": [
    "#Ans.6\n",
    "\n",
    "print(\"1st\")\n",
    "n = 4\n",
    " \n",
    "i = 1\n",
    "while i <= n :\n",
    "    j = 1\n",
    "    while j <= i:\n",
    "        print(\"*\", end = \" \")\n",
    "        j += 1\n",
    "    print()\n",
    "    i += 1\n",
    "    \n",
    "    \n",
    "print(\"\\n2nd\")\n",
    "i=1\n",
    "while i<=5:\n",
    "    j=5\n",
    "    while(j>=i):\n",
    "        print(j,end='')\n",
    "        j=j-1\n",
    "    print(\" \")\n",
    "    i=i+1\n",
    "\n",
    "\n",
    "print(\"\\n3rd\")\n",
    "\n",
    "i=1\n",
    "while i<=5:\n",
    "    j=5\n",
    "    while(j>=i):\n",
    "        print(j,end=' ')\n",
    "        j=j-1\n",
    "    print(\" \")\n",
    "    i=i+1\n",
    "    \n",
    "n = 5\n",
    " \n",
    "i = 1\n",
    "while i <= n :\n",
    "    j = 1\n",
    "    while j <= i:\n",
    "        print(j, end = \" \")\n",
    "        j += 1\n",
    "    print()\n",
    "    i += 1\n"
   ]
  },
  {
   "cell_type": "code",
   "execution_count": null,
   "id": "3abfc422-195a-40d6-acfe-e594e0c84ed8",
   "metadata": {},
   "outputs": [],
   "source": []
  },
  {
   "cell_type": "markdown",
   "id": "a1805c4f-825e-4b11-bf95-5384c265010c",
   "metadata": {},
   "source": [
    "Q.7 Reverse a while loop to display numbers from 10 to 1"
   ]
  },
  {
   "cell_type": "code",
   "execution_count": 13,
   "id": "67a6788f-70b0-4e96-8af9-aa6000af244f",
   "metadata": {},
   "outputs": [
    {
     "name": "stdout",
     "output_type": "stream",
     "text": [
      "10\n",
      "9\n",
      "8\n",
      "7\n",
      "6\n",
      "5\n",
      "4\n",
      "3\n",
      "2\n",
      "1\n"
     ]
    }
   ],
   "source": [
    "#Ans.7\n",
    "\n",
    "Number = 10\n",
    "\n",
    "while Number >= 1:\n",
    "    print(Number)\n",
    "    Number-= 1"
   ]
  },
  {
   "cell_type": "code",
   "execution_count": null,
   "id": "27e6221c-3d87-4ed0-b892-e5860436466e",
   "metadata": {},
   "outputs": [],
   "source": []
  }
 ],
 "metadata": {
  "kernelspec": {
   "display_name": "Python 3 (ipykernel)",
   "language": "python",
   "name": "python3"
  },
  "language_info": {
   "codemirror_mode": {
    "name": "ipython",
    "version": 3
   },
   "file_extension": ".py",
   "mimetype": "text/x-python",
   "name": "python",
   "nbconvert_exporter": "python",
   "pygments_lexer": "ipython3",
   "version": "3.10.8"
  }
 },
 "nbformat": 4,
 "nbformat_minor": 5
}
