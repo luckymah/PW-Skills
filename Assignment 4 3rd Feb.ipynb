{
 "cells": [
  {
   "cell_type": "markdown",
   "id": "8b62d6bc-4785-4f70-a469-0fe887370c23",
   "metadata": {},
   "source": [
    "Q.1 Which keyword is used to create a function? Create a function to return a list of odd numbers in the\n",
    "range of 1 to 25."
   ]
  },
  {
   "cell_type": "code",
   "execution_count": 2,
   "id": "0087170d-b8aa-40e8-beb8-d2c1d575a28b",
   "metadata": {},
   "outputs": [
    {
     "data": {
      "text/plain": [
       "[1, 3, 5, 7, 9, 11, 13, 15, 17, 19, 21, 23, 25]"
      ]
     },
     "execution_count": 2,
     "metadata": {},
     "output_type": "execute_result"
    }
   ],
   "source": [
    "#Ans.1#\n",
    "\n",
    "#def function is used to create a function. it is used before a user-defined function name to create a user-defined function.\n",
    "\n",
    "'''The syntax to declare a function is:\n",
    "\n",
    "def function_name(arguments):\n",
    "    # function body \n",
    "\n",
    "    return\n",
    "\n",
    "Here,\n",
    "\n",
    "def - keyword used to declare a function\n",
    "function_name - any name given to the function\n",
    "arguments - any value passed to function\n",
    "return (optional) - returns value from a function'''\n",
    "\n",
    "\n",
    "def list_odd(a):\n",
    "    List = []\n",
    "    for i in a:\n",
    "        if i%2!=0:\n",
    "            List.append(i)\n",
    "            \n",
    "    return List\n",
    "\n",
    "list_odd(range(1,26))"
   ]
  },
  {
   "cell_type": "code",
   "execution_count": null,
   "id": "79c8c55d-018d-4498-bf09-083272fa7876",
   "metadata": {},
   "outputs": [],
   "source": []
  },
  {
   "cell_type": "markdown",
   "id": "4bc54f36-a599-4996-a5ad-6dab1846768a",
   "metadata": {},
   "source": [
    "Q2. Why *args and **kwargs is used in some functions? Create a function each for *args and **kwargs to demonstrate their use."
   ]
  },
  {
   "cell_type": "code",
   "execution_count": 37,
   "id": "a2e56682-7469-45de-99eb-97c3cd182956",
   "metadata": {},
   "outputs": [
    {
     "name": "stdout",
     "output_type": "stream",
     "text": [
      "For *args syntax  \n",
      "\n",
      "Hello\n",
      "Welcome\n",
      "1\n",
      "1.234\n",
      "True\n",
      "\n",
      "\n",
      " For **kwargs syntax  \n",
      "\n",
      "Data type of argument: <class 'dict'>\n",
      "First_Name is Sita\n",
      "Last_Name is Sharma\n",
      "Age is 22\n",
      "Phone is 1234567890\n",
      "\n",
      "\n",
      "Data type of argument: <class 'dict'>\n",
      "First_Name is John\n",
      "Last_Name is Wood\n",
      "Email is johnwood@nomail.com\n",
      "Country is Wakanda\n",
      "Age is 25\n",
      "Phone is 9876543210\n"
     ]
    }
   ],
   "source": [
    "'''Ans. \n",
    "\n",
    "Syntax *args in function definitions in python is used to pass a variable number of arguments to a function.\n",
    "It is used to pass a non-key worded, variable-length argument.'''\n",
    "\n",
    "print(\"For *args syntax \",\"\\n\")\n",
    "def myFun(*argv):\n",
    "    for arg in argv:\n",
    "        print(arg)\n",
    "\n",
    "myFun('Hello', 'Welcome', 1, 1.234, True)\n",
    "\n",
    "\n",
    "\n",
    "'''**kwargs, it allows us to pass the variable length of keyword arguments to the function.\n",
    "\n",
    "In the function, we use the double asterisk ** before the parameter name to denote this type of argument.\n",
    "The arguments are passed as a dictionary and these arguments make a dictionary inside function with name same as the parameter excluding double asterisk **.\n",
    "\n",
    "-- A keyword argument is where you provide a name to the variable as you pass it into the function.\n",
    "-- One can think of the kwargs as being a dictionary that maps each keyword to the value that we pass alongside it.\n",
    "-- That is why when we iterate over the kwargs there doesn’t seem to be any order in which they were printed out.'''\n",
    "\n",
    "\n",
    "print(\"\\n\\n\", \"For **kwargs syntax \",\"\\n\")\n",
    "def intro(**data):\n",
    "    print(\"Data type of argument:\",type(data))\n",
    "\n",
    "    for key, value in data.items():\n",
    "        print(\"{} is {}\".format(key,value))\n",
    "\n",
    "intro(First_Name=\"Sita\", Last_Name=\"Sharma\", Age=22, Phone=1234567890)\n",
    "print(\"\\n\")\n",
    "intro(First_Name=\"John\", Last_Name=\"Wood\", Email=\"johnwood@nomail.com\", Country=\"Wakanda\", Age=25, Phone=9876543210)\n",
    "\n"
   ]
  },
  {
   "cell_type": "code",
   "execution_count": null,
   "id": "70df212a-eb42-4e76-bf1d-a8cb3fdd4447",
   "metadata": {},
   "outputs": [],
   "source": []
  },
  {
   "cell_type": "markdown",
   "id": "e9f7f0ad-99af-4322-83ce-86a292d41c9a",
   "metadata": {},
   "source": [
    "Q3. What is an iterator in python? Name the method used to initialise the iterator object and the method\n",
    "used for iteration. Use these methods to print the first five elements of the given list [2, 4, 6, 8, 10, 12, 14,\n",
    "16, 18, 20]."
   ]
  },
  {
   "cell_type": "code",
   "execution_count": 11,
   "id": "a8dab7bd-6747-4e79-9a8f-0e96c9f6923d",
   "metadata": {},
   "outputs": [
    {
     "name": "stdout",
     "output_type": "stream",
     "text": [
      "2\n",
      "4\n",
      "6\n",
      "8\n",
      "10\n"
     ]
    }
   ],
   "source": [
    "\"\"\"Ans 3.\n",
    "\n",
    "Iterator in Python is an object that is used to iterate over iterable objects like lists, tuples, dicts, and sets.\n",
    "\n",
    "The iterator object is initialized using the iter() method. It uses the next() method for iteration.\n",
    "\n",
    "__iter__(): The iter() method is called for the initialization of an iterator. This returns an iterator object\n",
    "__next__(): The next method returns the next value for the iterable.\n",
    "\n",
    "When we use a for loop to traverse any iterable object, internally it uses the iter() method to get an iterator object,\n",
    "which further uses the next() method to iterate over. This method raises a StopIteration to signal the end of the iteration.\"\"\"\n",
    "\n",
    "l = [2, 4, 6, 8, 10, 12, 14, 16, 18, 20]\n",
    "\n",
    "Iterator_obj_A = iter(l)\n",
    "\n",
    "print(next(Iterator_obj_A))\n",
    "\n",
    "print(next(Iterator_obj_A))\n",
    "\n",
    "print(next(Iterator_obj_A))\n",
    "\n",
    "print(next(Iterator_obj_A))\n",
    "\n",
    "print(next(Iterator_obj_A))"
   ]
  },
  {
   "cell_type": "code",
   "execution_count": null,
   "id": "ead8309d-0d89-44f4-856e-cef4359fa056",
   "metadata": {},
   "outputs": [],
   "source": []
  },
  {
   "cell_type": "markdown",
   "id": "e6a97a50-4b1e-42ca-8f8f-bbeb9c516b24",
   "metadata": {},
   "source": [
    "Q4. What is a generator function in python? Why yield keyword is used? Give an example of a generator function."
   ]
  },
  {
   "cell_type": "code",
   "execution_count": 20,
   "id": "d3d93c0e-00fd-4919-93aa-f920f02be6cd",
   "metadata": {},
   "outputs": [
    {
     "name": "stdout",
     "output_type": "stream",
     "text": [
      "<generator object fibonacci at 0x7fc02867c7b0> \n",
      "\n",
      "0\n",
      "1\n",
      "1\n",
      "2\n",
      "3\n",
      "5\n",
      "8\n",
      "13\n",
      "21\n",
      "34\n"
     ]
    }
   ],
   "source": [
    "'''Ans 4.\n",
    "\n",
    "Generator-Function: A generator-function is defined like a normal function,\n",
    "but whenever it needs to generate a value, it does so with the yield keyword rather than return.\n",
    "If the body of a def contains yield, the function automatically becomes a generator function. \n",
    "\n",
    "Unlike regular functions, generator functions do not return a value and exit the function when the \"yield\" statement is encountered,\n",
    "but they retain their state and can be resumed from where they left off.\n",
    "\n",
    "When a generator function is called, it returns a generator object,\n",
    "which is an iterator that can be used to iterate over the sequence of values generated by the function.\n",
    "Each time the \"yield\" statement is encountered, the value is produced and returned by the generator object and the function's state is saved.\n",
    "The next time the generator object is called, it resumes execution from where it left off and continues producing values until the end of the sequence is reached.'''\n",
    "\n",
    "\n",
    "def fibonacci():\n",
    "    a, b = 0, 1\n",
    "    while True:\n",
    "        yield a\n",
    "        a, b = b, a + b\n",
    "        \n",
    "print(fibonacci(),\"\\n\") ##returns generator object\n",
    "\n",
    "fib = fibonacci() ##defining fib as iterator\n",
    "\n",
    "for i in range(10): ##to loop in 10 times\n",
    "    print(next(fib)) ##to loop in 10 times to iterate over \"fib\" iterator, so printing first 10 fibonacci nos.\n"
   ]
  },
  {
   "cell_type": "code",
   "execution_count": null,
   "id": "b159732e-c74a-4409-9ba4-f94ae9706914",
   "metadata": {},
   "outputs": [],
   "source": []
  },
  {
   "cell_type": "markdown",
   "id": "7a34abd7-87b9-42a4-8441-c2b53d5b28fb",
   "metadata": {},
   "source": [
    "Q5. Create a generator function for prime numbers less than 1000. Use the next() method to print the\n",
    "first 20 prime numbers."
   ]
  },
  {
   "cell_type": "code",
   "execution_count": 4,
   "id": "92df2405-1474-4957-b675-8ca841602934",
   "metadata": {},
   "outputs": [
    {
     "name": "stdout",
     "output_type": "stream",
     "text": [
      "2\n",
      "3\n",
      "5\n",
      "7\n",
      "11\n",
      "13\n",
      "17\n",
      "19\n",
      "23\n",
      "29\n",
      "31\n",
      "37\n",
      "41\n",
      "43\n",
      "47\n",
      "53\n",
      "59\n",
      "61\n",
      "67\n",
      "71\n"
     ]
    }
   ],
   "source": [
    "#Ans5.\n",
    "\n",
    "def prime_check(n):\n",
    "\t# Check if the number is less than or equal to 1, return False if it is\n",
    "\tif n <= 1 and n>=1000:\n",
    "\t\treturn False\n",
    "\t# Loop through all numbers from 2 to\n",
    "\t# the 1 no less than the n\n",
    "\tfor i in range(2, n):\n",
    "\t\t# If n is divisible by any of these numbers, return False\n",
    "\t\tif n % i == 0:\n",
    "\t\t\treturn False\n",
    "\t# If n is not divisible by any of these numbers, return True\n",
    "\treturn True\n",
    "\n",
    "\n",
    "def prime_generator(n):\n",
    "    for i in range(2, n+1):\n",
    "        if prime_check(i) == True:\n",
    "            yield i\n",
    "\n",
    "#n = int(input(\"Enter the range of Num: \"))\n",
    "prime = prime_generator(1000)\n",
    "\n",
    "print(next(prime))\n",
    "print(next(prime))\n",
    "print(next(prime))\n",
    "print(next(prime))\n",
    "print(next(prime))\n",
    "print(next(prime))\n",
    "print(next(prime))\n",
    "print(next(prime))\n",
    "print(next(prime))\n",
    "print(next(prime))\n",
    "print(next(prime))\n",
    "print(next(prime))\n",
    "print(next(prime))\n",
    "print(next(prime))\n",
    "print(next(prime))\n",
    "print(next(prime))\n",
    "print(next(prime))\n",
    "print(next(prime))\n",
    "print(next(prime))\n",
    "print(next(prime))"
   ]
  },
  {
   "cell_type": "code",
   "execution_count": null,
   "id": "b420286d-1195-4ebf-b66e-307758ca96ab",
   "metadata": {},
   "outputs": [],
   "source": []
  },
  {
   "cell_type": "markdown",
   "id": "7edec933-09fd-481c-940d-e12b8c88adc8",
   "metadata": {},
   "source": [
    "Q6. Write a python program to print the first 10 Fibonacci numbers using a while loop"
   ]
  },
  {
   "cell_type": "code",
   "execution_count": 9,
   "id": "3dea1370-17e7-434c-88e6-407205a4752b",
   "metadata": {},
   "outputs": [
    {
     "name": "stdin",
     "output_type": "stream",
     "text": [
      "Enter the No  10\n"
     ]
    },
    {
     "name": "stdout",
     "output_type": "stream",
     "text": [
      "0\n",
      "1\n",
      "1\n",
      "2\n",
      "3\n",
      "5\n",
      "8\n",
      "13\n",
      "21\n",
      "34\n"
     ]
    }
   ],
   "source": [
    " #Ans6.\n",
    "\n",
    "\n",
    "def fibonacci():\n",
    "    a,b = 0,1\n",
    "    n=0\n",
    "    y=int(input(\"Enter the No \"))\n",
    "    \n",
    "    while n<y:\n",
    "      yield a\n",
    "      a,b = b,a+b\n",
    "      n+=1\n",
    "\n",
    "        \n",
    "fib = fibonacci()\n",
    "\n",
    "for i in fib:\n",
    "    print(i)"
   ]
  },
  {
   "cell_type": "code",
   "execution_count": null,
   "id": "983a5c64-fc8e-4592-9d6d-bc1ff0a7eb65",
   "metadata": {},
   "outputs": [],
   "source": []
  },
  {
   "cell_type": "markdown",
   "id": "41573dab-7776-46ba-b556-8bc0cd4fcd9d",
   "metadata": {},
   "source": [
    "Q7. Write a List Comprehension to iterate through the given string: ‘pwskills’.\n",
    "\n",
    "Expected output: ['p', 'w', 's', 'k', 'i', 'l', 'l', 's']"
   ]
  },
  {
   "cell_type": "code",
   "execution_count": 6,
   "id": "c94844e8-0f4f-4301-9724-e97e87c4e12c",
   "metadata": {},
   "outputs": [
    {
     "name": "stdout",
     "output_type": "stream",
     "text": [
      "['p', 'w', 's', 'k', 'i', 'l', 'l', 's']\n"
     ]
    }
   ],
   "source": [
    "#Ans7.\n",
    "\n",
    "s='pwskills'\n",
    "\n",
    "List = [i for i in s]\n",
    "\n",
    "print(List)"
   ]
  },
  {
   "cell_type": "code",
   "execution_count": null,
   "id": "9c5ddea5-453f-4901-bfc4-d1638a22d950",
   "metadata": {},
   "outputs": [],
   "source": []
  },
  {
   "cell_type": "markdown",
   "id": "8543870d-bb37-4c4c-b1d9-e14fb2a5289b",
   "metadata": {},
   "source": [
    "Q8. Write a python program to check whether a given number is Palindrome or not using a while loop."
   ]
  },
  {
   "cell_type": "code",
   "execution_count": 11,
   "id": "3e83cfe0-e522-4c49-a12b-463a2a198c15",
   "metadata": {},
   "outputs": [
    {
     "name": "stdin",
     "output_type": "stream",
     "text": [
      "Enter the no to check if its a Palindrome  0\n"
     ]
    },
    {
     "data": {
      "text/plain": [
       "True"
      ]
     },
     "execution_count": 11,
     "metadata": {},
     "output_type": "execute_result"
    }
   ],
   "source": [
    "#Ans8.\n",
    "\n",
    "def palindrome_check(s):\n",
    "        \n",
    "    while len(s) > 0:\n",
    "        if s == s[::-1]:\n",
    "            return(True)\n",
    "            \n",
    "        else:\n",
    "            return(False)\n",
    "        \n",
    "s = input(\"Enter the no to check if its a Palindrome \")\n",
    "palindrome_check(s)"
   ]
  },
  {
   "cell_type": "code",
   "execution_count": null,
   "id": "7db99214-ff46-4296-89f9-05f6f9a3a0ae",
   "metadata": {},
   "outputs": [],
   "source": []
  },
  {
   "cell_type": "markdown",
   "id": "2e63b9b6-eeac-4624-85e1-514f013db922",
   "metadata": {},
   "source": [
    "Q9. Write a code to print odd numbers from 1 to 100 using list comprehension.\n",
    "\n",
    "Note: Use a list comprehension to create a list from 1 to 100 and use another List comprehension to filter\n",
    "out odd numbers."
   ]
  },
  {
   "cell_type": "code",
   "execution_count": 12,
   "id": "9970a078-764d-413f-9e7f-0832b65f1993",
   "metadata": {},
   "outputs": [
    {
     "name": "stdout",
     "output_type": "stream",
     "text": [
      "[1, 3, 5, 7, 9, 11, 13, 15, 17, 19, 21, 23, 25, 27, 29, 31, 33, 35, 37, 39, 41, 43, 45, 47, 49, 51, 53, 55, 57, 59, 61, 63, 65, 67, 69, 71, 73, 75, 77, 79, 81, 83, 85, 87, 89, 91, 93, 95, 97, 99]\n"
     ]
    }
   ],
   "source": [
    "#Ans9.\n",
    "\n",
    "List = [i for i in range(1, 101)]\n",
    "\n",
    "Odd_List = [j for j in List if j%2==1]\n",
    "\n",
    "print(Odd_List)"
   ]
  }
 ],
 "metadata": {
  "kernelspec": {
   "display_name": "Python 3 (ipykernel)",
   "language": "python",
   "name": "python3"
  },
  "language_info": {
   "codemirror_mode": {
    "name": "ipython",
    "version": 3
   },
   "file_extension": ".py",
   "mimetype": "text/x-python",
   "name": "python",
   "nbconvert_exporter": "python",
   "pygments_lexer": "ipython3",
   "version": "3.10.8"
  }
 },
 "nbformat": 4,
 "nbformat_minor": 5
}
