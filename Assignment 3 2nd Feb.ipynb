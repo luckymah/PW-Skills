{
 "cells": [
  {
   "cell_type": "code",
   "execution_count": 2,
   "id": "5875ffdf-1f52-4700-ba66-38d3bcd59abe",
   "metadata": {},
   "outputs": [
    {
     "name": "stdout",
     "output_type": "stream",
     "text": [
      "10\n",
      "20\n",
      "30\n",
      "40\n",
      "50\n"
     ]
    }
   ],
   "source": [
    "'''Q.1 Explain with an example each when to use a for loop and a while loop\n",
    "\n",
    "Ans.1\n",
    "\n",
    "\"FOR LOOP\"\n",
    "\n",
    "A for loop is used for iterating over a sequence (that is either a list, a tuple, a dictionary, a set or a string).\n",
    "For loop is used when the number of iterations are already known.\n",
    "\n",
    "The for loop is divided into two parts −\n",
    "\n",
    "Header − This part specifies the iteration of the loop. In the header part, the loop variable is also declared, \n",
    "which tells the body which iteration is being executed.\n",
    "\n",
    "Body − The body part contains the statement executed per iteration.\n",
    "\n",
    "Syntax\n",
    "\n",
    "for(initialization; condition; iteration){\n",
    "   //body of the 'for' loop\n",
    "}'''\n",
    "\n",
    "#For Example:\n",
    "\n",
    "# input list #Header\n",
    "inputList = [10, 20, 30, 40, 50]\n",
    "\n",
    "#Body\n",
    "for element in inputList:\n",
    "   # printing each element of the list\n",
    "   print(element)"
   ]
  },
  {
   "cell_type": "code",
   "execution_count": 3,
   "id": "53d0544b-3c46-4902-a086-ba41a8f136bf",
   "metadata": {},
   "outputs": [
    {
     "name": "stdout",
     "output_type": "stream",
     "text": [
      "1\n",
      "2\n",
      "3\n",
      "4\n",
      "5\n",
      "6\n",
      "7\n",
      "8\n",
      "9\n",
      "10\n"
     ]
    }
   ],
   "source": [
    "'''\n",
    "\"While Loop\"\n",
    "\n",
    "While loop is used when the number of iterations are not known.\n",
    "A loop that runs a single statement or a set of statements for a given true condition.\n",
    "This loop is represented by the keyword \"while.\"\n",
    "The statement is repeated until the boolean value is false.\n",
    "Because the condition is tested at the beginning of a while loop, it is also known as the pre-test loop.\n",
    "\n",
    "The initialization and condition checking are done at the beginning of the loop.'''\n",
    "\n",
    "\"For Example\"\n",
    "\n",
    "i = 1 # Initializing a dummy variable with 1\n",
    "\n",
    "while i <= 10: # Iterate until the given condition is true\n",
    "   \n",
    "   print(i) # printing the current value of the above variable\n",
    "   \n",
    "   i += 1 # incrementing the value of i by 1"
   ]
  },
  {
   "cell_type": "markdown",
   "id": "bc1754d3-f9f5-4556-8cab-5455033ce891",
   "metadata": {},
   "source": [
    "Q.2 Write a python programme to print the sum and product of the first 10 Natural numbers using for and while loop."
   ]
  },
  {
   "cell_type": "code",
   "execution_count": 4,
   "id": "cb1ffe96-09e5-40d3-bc47-fac671982b84",
   "metadata": {},
   "outputs": [
    {
     "name": "stdout",
     "output_type": "stream",
     "text": [
      "Using For Loop\n",
      "Sum of first 10 natural numbers = 55\n",
      "product of first 10 natural numbers = 3628800\n",
      "\n",
      "Using while Loop\n",
      "Sum of first 10 natural numbers = 55\n",
      "product of first 10 natural numbers = 3628800\n"
     ]
    }
   ],
   "source": [
    "'''Ans.2 '''\n",
    "\n",
    "print(\"Using For Loop\")\n",
    "\n",
    "Sum = 0\n",
    "for i in range(1,11):\n",
    "    if i <=11:\n",
    "        Sum = Sum + i\n",
    "print(\"Sum of first 10 natural numbers =\", Sum)\n",
    "\n",
    "\n",
    "\"Product\"\n",
    "\n",
    "product = 1\n",
    "for i in range(1,11):\n",
    "    if i <=11:\n",
    "        product = product * i\n",
    "print(\"product of first 10 natural numbers =\", product)\n",
    "\n",
    "\n",
    "print(\"\\nUsing while Loop\")\n",
    "\n",
    "Sum =0\n",
    "i=1\n",
    "\n",
    "while i <=10:\n",
    "    Sum=Sum+i\n",
    "    i+=1\n",
    "\n",
    "print(\"Sum of first 10 natural numbers =\", Sum)\n",
    "\n",
    "i=1\n",
    "product = 1\n",
    "while i <=10:\n",
    "    product=i*product\n",
    "    i+=1\n",
    "\n",
    "print(\"product of first 10 natural numbers =\", product)"
   ]
  },
  {
   "cell_type": "code",
   "execution_count": null,
   "id": "fec64bd1-38d6-4927-acbc-d3d81ae8296e",
   "metadata": {},
   "outputs": [],
   "source": []
  },
  {
   "cell_type": "markdown",
   "id": "61972ac3-98c3-4e5e-83cd-8d7fc75c4925",
   "metadata": {},
   "source": [
    "Q3. Create a python program to compute the electricity bill for a household.\n",
    "\n",
    "The per-unit charges in rupees are as follows: For the first 100 units, the user will be charged Rs. 4.5 per\n",
    "unit, for the next 100 units, the user will be charged Rs. 6 per unit, and for the next 100 units, the user will\n",
    "be charged Rs. 10 per unit, After 300 units and above the user will be charged Rs. 20 per unit.\n",
    "\n",
    "\n",
    "You are required to take the units of electricity consumed in a month from the user as input.\n",
    "\n",
    "Your program must pass this test case: when the unit of electricity consumed by the user in a month is\n",
    "310, the total electricity bill should be 2250."
   ]
  },
  {
   "cell_type": "code",
   "execution_count": 5,
   "id": "0e99d127-a9d4-4bb4-8f4e-00595b42901b",
   "metadata": {},
   "outputs": [
    {
     "name": "stdin",
     "output_type": "stream",
     "text": [
      "Enter the electricity consumed = 310\n"
     ]
    },
    {
     "name": "stdout",
     "output_type": "stream",
     "text": [
      "Total Bill for the Electricity consumed = 2250.0\n"
     ]
    }
   ],
   "source": [
    "#Ans.3\n",
    "\n",
    "Units = int(input(\"Enter the electricity consumed =\"))\n",
    "\n",
    "\n",
    "Slab1 = 4.5\n",
    "Slab2 = 6\n",
    "Slab3 = 10\n",
    "Slab4 = 20\n",
    "\n",
    "if Units >=1 and Units <=100:\n",
    "    bill_amount = Units * Slab1\n",
    "        \n",
    "elif Units >=101 and Units <=200:\n",
    "    bill_amount = (100 * Slab1) + ((Units-100) * Slab2)\n",
    "        \n",
    "elif Units >=201 and Units <=300:\n",
    "    bill_amount = (100 * Slab1) + (100 * Slab2) + ((Units-200) * Slab3)\n",
    "        \n",
    "elif Units >300:\n",
    "    bill_amount = (100 * Slab1) + (100 * Slab2) + (100 * Slab3) + ((Units-300) * Slab4)\n",
    "    \n",
    "    \n",
    "print(\"Total Bill for the Electricity consumed =\", bill_amount)"
   ]
  },
  {
   "cell_type": "markdown",
   "id": "4e75d05b-2ccc-4f5d-93e5-f0fb923cbc9f",
   "metadata": {
    "jp-MarkdownHeadingCollapsed": true,
    "tags": []
   },
   "source": [
    "Q4. Create a list of numbers from 1 to 100. Use for loop and while loop to calculate the cube of each\n",
    "number and if the cube of that number is divisible by 4 or 5 then append that number in a list and print\n",
    "that list."
   ]
  },
  {
   "cell_type": "code",
   "execution_count": 6,
   "id": "cb2c6ef8-a192-48fb-af4c-9ca15461c074",
   "metadata": {},
   "outputs": [],
   "source": [
    "List = range(1,101)"
   ]
  },
  {
   "cell_type": "code",
   "execution_count": 7,
   "id": "00b76952-4771-4f4d-b083-40ab4d9c4175",
   "metadata": {},
   "outputs": [
    {
     "name": "stdout",
     "output_type": "stream",
     "text": [
      "[2, 4, 5, 6, 8, 10, 12, 14, 15, 16, 18, 20, 22, 24, 25, 26, 28, 30, 32, 34, 35, 36, 38, 40, 42, 44, 45, 46, 48, 50, 52, 54, 55, 56, 58, 60, 62, 64, 65, 66, 68, 70, 72, 74, 75, 76, 78, 80, 82, 84, 85, 86, 88, 90, 92, 94, 95, 96, 98, 100]\n"
     ]
    }
   ],
   "source": [
    "#for loop\n",
    "\n",
    "l1=[]\n",
    "\n",
    "for i in List:\n",
    "    if i**3 % 4 == 0 or i**3 % 5 == 0:\n",
    "        l1.append(i)\n",
    "\n",
    "print(l1)"
   ]
  },
  {
   "cell_type": "code",
   "execution_count": 12,
   "id": "c24e490e-1f57-49fc-a61d-3c7225a5f953",
   "metadata": {},
   "outputs": [
    {
     "name": "stdout",
     "output_type": "stream",
     "text": [
      "[2, 4, 5, 6, 8, 10, 12, 14, 15, 16, 18, 20, 22, 24, 25, 26, 28, 30, 32, 34, 35, 36, 38, 40, 42, 44, 45, 46, 48, 50, 52, 54, 55, 56, 58, 60, 62, 64, 65, 66, 68, 70, 72, 74, 75, 76, 78, 80, 82, 84, 85, 86, 88, 90, 92, 94, 95, 96, 98, 100]\n"
     ]
    }
   ],
   "source": [
    "#Using while loop\n",
    "\n",
    "l2=[]\n",
    "i=1\n",
    "while i <=len(List):\n",
    "    if i**3 % 4 == 0 or i**3 % 5 == 0:\n",
    "        l2.append(i)\n",
    "    i += 1\n",
    "    \n",
    "print(l2)"
   ]
  },
  {
   "cell_type": "code",
   "execution_count": null,
   "id": "7ff9e31f-c74e-4af4-bb20-0adb265b29e0",
   "metadata": {},
   "outputs": [],
   "source": []
  },
  {
   "cell_type": "markdown",
   "id": "a728cead-72d8-45b1-8860-e9b7dd434af0",
   "metadata": {},
   "source": [
    "Q5. Write a program to filter count vowels in the below-given string.\n",
    "\n",
    "string = \"I want to become a data scientist\""
   ]
  },
  {
   "cell_type": "code",
   "execution_count": 34,
   "id": "04262872-f4f2-4403-a53b-565266fffa22",
   "metadata": {},
   "outputs": [
    {
     "name": "stdout",
     "output_type": "stream",
     "text": [
      "a 4\n",
      "e 3\n",
      "i 2\n",
      "I 1\n",
      "o 2\n"
     ]
    }
   ],
   "source": [
    "string = \"I want to become a data scientist\"\n",
    "vowels = ['a', 'A', 'e', 'E', 'i', 'I', 'o', 'O', 'u', 'U']\n",
    "\n",
    "for i in vowels:\n",
    "    if i in string:\n",
    "      \n",
    "      print(i, string.count(i))\n"
   ]
  },
  {
   "cell_type": "code",
   "execution_count": null,
   "id": "7f9e3e2a-ae38-4471-b4d5-1aaf1854c49c",
   "metadata": {},
   "outputs": [],
   "source": []
  },
  {
   "cell_type": "code",
   "execution_count": null,
   "id": "2c091c7f-18a1-46da-8e42-24a4163b9e3b",
   "metadata": {},
   "outputs": [],
   "source": []
  }
 ],
 "metadata": {
  "kernelspec": {
   "display_name": "Python 3 (ipykernel)",
   "language": "python",
   "name": "python3"
  },
  "language_info": {
   "codemirror_mode": {
    "name": "ipython",
    "version": 3
   },
   "file_extension": ".py",
   "mimetype": "text/x-python",
   "name": "python",
   "nbconvert_exporter": "python",
   "pygments_lexer": "ipython3",
   "version": "3.10.8"
  }
 },
 "nbformat": 4,
 "nbformat_minor": 5
}
